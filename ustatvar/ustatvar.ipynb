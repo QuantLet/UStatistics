{
  "nbformat": 4,
  "nbformat_minor": 0,
  "metadata": {
    "colab": {
      "name": "Variance Comparison U-Statistic.ipynb",
      "provenance": []
    },
    "kernelspec": {
      "name": "python3",
      "display_name": "Python 3"
    },
    "language_info": {
      "name": "python"
    }
  },
  "cells": [
    {
      "cell_type": "markdown",
      "source": [
        "# Comparison of Variance of a U-Statistic to other unbiased estimators"
      ],
      "metadata": {
        "id": "w-GlZCUuXpy-"
      }
    },
    {
      "cell_type": "markdown",
      "source": [
        "Suppose we are interested in the estimation of an expectation functional \n",
        "<br><br>$$\\theta(F) = \\mathbb{\\sf E}_F\\{h(X_1, \\dots, X_m) \\},$$<br><br>\n",
        "\n",
        "for example:\n",
        "\n",
        "$$ \\theta(F) = \\mathbb{\\sf E}_F\\{X \\} = \\mu (F) = \\int x dF(x) $$ <br><br>of an unknown distribution $F$ with $X \\sim F$. <br><br>\n",
        "\n",
        "The U-Statistic corresponding to our example $\\mu (F)$([Quantinar link to U-Stat talk here](https://quantinar.com)) is <br><br>$$ \\begin{aligned}\n",
        "U_n =& \\frac {1}{\\binom{n}{m}} \\underset{1 \\leq i_1 < i_2 < \\dots < i_m \\leq n}{\\sum \\dots \\sum} h(X_{i_1}, \\dots, X_{i_m})\\\\\n",
        "=& n^{-1} \\sum_{i = 1}^n X_i = \\bar{X},\n",
        "\\end{aligned} \n",
        " $$\n",
        " where $X_i \\sim F$ i.i.d.\n",
        "\n",
        "<br><br>\n",
        "Remember that $U_n$ is unbiased. However, might be other unbiased estimators $S$ of $\\theta(F)$. So what can we say about the variances of $U_n$ on one hand and the variances of any such other unbiased estimator $S$ on the other? <br><br>\n",
        "\n",
        "Examples of simple alternative candidates for unbiased estimators of $\\mu (F)$ are \n",
        "\n",
        "$$ \\begin{aligned} \n",
        "S_1 =& X_1 \\\\\n",
        "S_2 =& \\frac{1}{2} (X_1 + X_n)\n",
        "\\end{aligned}$$\n",
        "\n",
        "<br><br>\n",
        "\n",
        "We will compare their variance in a quick simulation study."
      ],
      "metadata": {
        "id": "hcKdBJAGXzZg"
      }
    },
    {
      "cell_type": "markdown",
      "source": [
        "## Simulation Study\n",
        "\n",
        "The setup is $F = \\chi ^2 (5)$. We know that $\\mu\\{\\chi ^ 2 (k)\\} = k$, such that $\\theta(F) = \\mu(F) = 5$.\n",
        "\n",
        "First we simulate 100 samples from $F$, each of size $n = 50$. "
      ],
      "metadata": {
        "id": "GQbf6GmEdwAJ"
      }
    },
    {
      "cell_type": "code",
      "execution_count": null,
      "metadata": {
        "id": "1oi5W0WVWRCO"
      },
      "outputs": [],
      "source": [
        "import numpy as np\n",
        "df = 5\n",
        "n = 50\n",
        "B = 100\n",
        "\n",
        "samples = [np.random.chisquare(df, size = n) for i in np.arange(B)]"
      ]
    },
    {
      "cell_type": "markdown",
      "source": [
        "We plot an example of such a sample."
      ],
      "metadata": {
        "id": "6FmMzax2ggZW"
      }
    },
    {
      "cell_type": "code",
      "source": [
        "import seaborn as sns\n",
        "import matplotlib.pyplot as plt\n",
        "import pandas as pd\n",
        "\n",
        "sns.histplot(samples[0])"
      ],
      "metadata": {
        "colab": {
          "base_uri": "https://localhost:8080/",
          "height": 282
        },
        "id": "FdyQa0Pefkun",
        "outputId": "f7e03777-e886-4015-a82c-092990e5aee7"
      },
      "execution_count": null,
      "outputs": [
        {
          "output_type": "execute_result",
          "data": {
            "text/plain": [
              "<matplotlib.axes._subplots.AxesSubplot at 0x7f1839e6d090>"
            ]
          },
          "metadata": {},
          "execution_count": 34
        },
        {
          "output_type": "display_data",
          "data": {
            "text/plain": [
              "<Figure size 432x288 with 1 Axes>"
            ],
            "image/png": "[encoded data removed]"
          },
          "metadata": {
            "needs_background": "light"
          }
        }
      ]
    },
    {
      "cell_type": "markdown",
      "source": [
        "Now we calculate $U_n$, $S_1$ and $S_2$ for every single sample."
      ],
      "metadata": {
        "id": "qDtVANDVgkFN"
      }
    },
    {
      "cell_type": "code",
      "source": [
        "list_Un = [np.mean(sample) for sample in samples]\n",
        "df_Un = pd.DataFrame(data = {\"Estimate\" : list_Un, \"Estimator\" : \"Un\" })\n",
        "\n",
        "list_S1 = [sample[0] for sample in samples]\n",
        "df_S1 = pd.DataFrame(data = {\"Estimate\" : list_S1, \"Estimator\" : \"S1\" })\n",
        "\n",
        "list_S2 = [0.5*(sample[0] + sample[1]) for sample in samples]\n",
        "df_S2 = pd.DataFrame(data = {\"Estimate\" : list_S2, \"Estimator\" : \"S2\" })\n",
        "\n",
        "data_estimators = pd.concat([df_Un, df_S1, df_S2], axis = 0)"
      ],
      "metadata": {
        "id": "TmMKaVRQfoJs"
      },
      "execution_count": null,
      "outputs": []
    },
    {
      "cell_type": "markdown",
      "source": [
        "Let us take a look at the distributions of $U_n$, $S_1$ and $S_2$."
      ],
      "metadata": {
        "id": "lPWPcz6wg81U"
      }
    },
    {
      "cell_type": "code",
      "source": [
        "import matplotlib.pyplot as plt\n",
        "\n",
        "\n",
        "plt.figure(figsize=(10,6))\n",
        "sns.violinplot(x=\"Estimator\", y=\"Estimate\", data=data_estimators)"
      ],
      "metadata": {
        "colab": {
          "base_uri": "https://localhost:8080/",
          "height": 405
        },
        "id": "yCy-EOPSg7nL",
        "outputId": "9c141689-3aa4-420b-ef8f-12eecdaafdfc"
      },
      "execution_count": null,
      "outputs": [
        {
          "output_type": "execute_result",
          "data": {
            "text/plain": [
              "<matplotlib.axes._subplots.AxesSubplot at 0x7f1839e277d0>"
            ]
          },
          "metadata": {},
          "execution_count": 36
        },
        {
          "output_type": "display_data",
          "data": {
            "text/plain": [
              "<Figure size 720x432 with 1 Axes>"
            ],
            "image/png": "[encoded data removed]"
          },
          "metadata": {
            "needs_background": "light"
          }
        }
      ]
    },
    {
      "cell_type": "markdown",
      "source": [
        "The results are consistent with our expectation. All of the estimators are unbiased, but $U_n$ has the smallest variance. This is consistent with:\n",
        "\n",
        "### Theorem\n",
        "For any unbiased statistic ￼$S = S(X_1, \\dots, X_n)$ which satisfies $\\mathbb{\\sf E}_F(S) = \\theta = \\theta (F)$￼, there exists $U_n$￼ such that ￼$\\mathbb{\\sf{Var}}_F(U_n) \\leq \\mathbb{\\sf{Var}}_F(S)$ with equality iff ￼$\\mathbb{\\sf P}_F(U_n = S) = 1$."
      ],
      "metadata": {
        "id": "qPVCIRPvjkTf"
      }
    }
  ]
}