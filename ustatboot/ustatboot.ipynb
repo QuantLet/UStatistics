{
  "nbformat": 4,
  "nbformat_minor": 0,
  "metadata": {
    "colab": {
      "name": "Bootstrap U-Stats",
      "provenance": [],
      "collapsed_sections": []
    },
    "kernelspec": {
      "name": "python3",
      "display_name": "Python 3"
    },
    "language_info": {
      "name": "python"
    }
  },
  "cells": [
    {
      "cell_type": "markdown",
      "source": [
        "# Example Notebook for the bootstrap of performance measures of a simple U-Statistic"
      ],
      "metadata": {
        "id": "yNPG8GGgwthH"
      }
    },
    {
      "cell_type": "markdown",
      "source": [
        "We use the famous [iris dataset](https://en.wikipedia.org/wiki/Iris_flower_data_set). "
      ],
      "metadata": {
        "id": "84Nw-bCWxsyJ"
      }
    },
    {
      "cell_type": "code",
      "execution_count": null,
      "metadata": {
        "id": "d_zyMnWZwNH4"
      },
      "outputs": [],
      "source": [
        "import numpy as np\n",
        "import seaborn as sns\n",
        "import matplotlib.pyplot as plt\n",
        "\n",
        "\n",
        "iris = sns.load_dataset('iris')\n",
        "\n"
      ]
    },
    {
      "cell_type": "code",
      "source": [
        "# Quick preview of the data.\n",
        "\n",
        "iris.head()"
      ],
      "metadata": {
        "colab": {
          "base_uri": "https://localhost:8080/",
          "height": 204
        },
        "id": "kKMFoYWMxr8E",
        "outputId": "122df693-b8bc-4d27-acba-c5423a3aeb2b"
      },
      "execution_count": null,
      "outputs": [
        {
          "output_type": "execute_result",
          "data": {
            "text/plain": [
              "   sepal_length  sepal_width  petal_length  petal_width species\n",
              "0           5.1          3.5           1.4          0.2  setosa\n",
              "1           4.9          3.0           1.4          0.2  setosa\n",
              "2           4.7          3.2           1.3          0.2  setosa\n",
              "3           4.6          3.1           1.5          0.2  setosa\n",
              "4           5.0          3.6           1.4          0.2  setosa"
            ],
            "text/html": [
              "\n",
              "  <div id=\"df-369917c5-aefd-46c5-9100-a326b6fcffc4\">\n",
              "    <div class=\"colab-df-container\">\n",
              "      <div>\n",
              "<style scoped>\n",
              "    .dataframe tbody tr th:only-of-type {\n",
              "        vertical-align: middle;\n",
              "    }\n",
              "\n",
              "    .dataframe tbody tr th {\n",
              "        vertical-align: top;\n",
              "    }\n",
              "\n",
              "    .dataframe thead th {\n",
              "        text-align: right;\n",
              "    }\n",
              "</style>\n",
              "<table border=\"1\" class=\"dataframe\">\n",
              "  <thead>\n",
              "    <tr style=\"text-align: right;\">\n",
              "      <th></th>\n",
              "      <th>sepal_length</th>\n",
              "      <th>sepal_width</th>\n",
              "      <th>petal_length</th>\n",
              "      <th>petal_width</th>\n",
              "      <th>species</th>\n",
              "    </tr>\n",
              "  </thead>\n",
              "  <tbody>\n",
              "    <tr>\n",
              "      <th>0</th>\n",
              "      <td>5.1</td>\n",
              "      <td>3.5</td>\n",
              "      <td>1.4</td>\n",
              "      <td>0.2</td>\n",
              "      <td>setosa</td>\n",
              "    </tr>\n",
              "    <tr>\n",
              "      <th>1</th>\n",
              "      <td>4.9</td>\n",
              "      <td>3.0</td>\n",
              "      <td>1.4</td>\n",
              "      <td>0.2</td>\n",
              "      <td>setosa</td>\n",
              "    </tr>\n",
              "    <tr>\n",
              "      <th>2</th>\n",
              "      <td>4.7</td>\n",
              "      <td>3.2</td>\n",
              "      <td>1.3</td>\n",
              "      <td>0.2</td>\n",
              "      <td>setosa</td>\n",
              "    </tr>\n",
              "    <tr>\n",
              "      <th>3</th>\n",
              "      <td>4.6</td>\n",
              "      <td>3.1</td>\n",
              "      <td>1.5</td>\n",
              "      <td>0.2</td>\n",
              "      <td>setosa</td>\n",
              "    </tr>\n",
              "    <tr>\n",
              "      <th>4</th>\n",
              "      <td>5.0</td>\n",
              "      <td>3.6</td>\n",
              "      <td>1.4</td>\n",
              "      <td>0.2</td>\n",
              "      <td>setosa</td>\n",
              "    </tr>\n",
              "  </tbody>\n",
              "</table>\n",
              "</div>\n",
              "      <button class=\"colab-df-convert\" onclick=\"convertToInteractive('df-369917c5-aefd-46c5-9100-a326b6fcffc4')\"\n",
              "              title=\"Convert this dataframe to an interactive table.\"\n",
              "              style=\"display:none;\">\n",
              "        \n",
              "  <svg xmlns=\"http://www.w3.org/2000/svg\" height=\"24px\"viewBox=\"0 0 24 24\"\n",
              "       width=\"24px\">\n",
              "    <path d=\"M0 0h24v24H0V0z\" fill=\"none\"/>\n",
              "    <path d=\"M18.56 5.44l.94 2.06.94-2.06 2.06-.94-2.06-.94-.94-2.06-.94 2.06-2.06.94zm-11 1L8.5 8.5l.94-2.06 2.06-.94-2.06-.94L8.5 2.5l-.94 2.06-2.06.94zm10 10l.94 2.06.94-2.06 2.06-.94-2.06-.94-.94-2.06-.94 2.06-2.06.94z\"/><path d=\"M17.41 7.96l-1.37-1.37c-.4-.4-.92-.59-1.43-.59-.52 0-1.04.2-1.43.59L10.3 9.45l-7.72 7.72c-.78.78-.78 2.05 0 2.83L4 21.41c.39.39.9.59 1.41.59.51 0 1.02-.2 1.41-.59l7.78-7.78 2.81-2.81c.8-.78.8-2.07 0-2.86zM5.41 20L4 18.59l7.72-7.72 1.47 1.35L5.41 20z\"/>\n",
              "  </svg>\n",
              "      </button>\n",
              "      \n",
              "  <style>\n",
              "    .colab-df-container {\n",
              "      display:flex;\n",
              "      flex-wrap:wrap;\n",
              "      gap: 12px;\n",
              "    }\n",
              "\n",
              "    .colab-df-convert {\n",
              "      background-color: #E8F0FE;\n",
              "      border: none;\n",
              "      border-radius: 50%;\n",
              "      cursor: pointer;\n",
              "      display: none;\n",
              "      fill: #1967D2;\n",
              "      height: 32px;\n",
              "      padding: 0 0 0 0;\n",
              "      width: 32px;\n",
              "    }\n",
              "\n",
              "    .colab-df-convert:hover {\n",
              "      background-color: #E2EBFA;\n",
              "      box-shadow: 0px 1px 2px rgba(60, 64, 67, 0.3), 0px 1px 3px 1px rgba(60, 64, 67, 0.15);\n",
              "      fill: #174EA6;\n",
              "    }\n",
              "\n",
              "    [theme=dark] .colab-df-convert {\n",
              "      background-color: #3B4455;\n",
              "      fill: #D2E3FC;\n",
              "    }\n",
              "\n",
              "    [theme=dark] .colab-df-convert:hover {\n",
              "      background-color: #434B5C;\n",
              "      box-shadow: 0px 1px 3px 1px rgba(0, 0, 0, 0.15);\n",
              "      filter: drop-shadow(0px 1px 2px rgba(0, 0, 0, 0.3));\n",
              "      fill: #FFFFFF;\n",
              "    }\n",
              "  </style>\n",
              "\n",
              "      <script>\n",
              "        const buttonEl =\n",
              "          document.querySelector('#df-369917c5-aefd-46c5-9100-a326b6fcffc4 button.colab-df-convert');\n",
              "        buttonEl.style.display =\n",
              "          google.colab.kernel.accessAllowed ? 'block' : 'none';\n",
              "\n",
              "        async function convertToInteractive(key) {\n",
              "          const element = document.querySelector('#df-369917c5-aefd-46c5-9100-a326b6fcffc4');\n",
              "          const dataTable =\n",
              "            await google.colab.kernel.invokeFunction('convertToInteractive',\n",
              "                                                     [key], {});\n",
              "          if (!dataTable) return;\n",
              "\n",
              "          const docLinkHtml = 'Like what you see? Visit the ' +\n",
              "            '<a target=\"_blank\" href=https://colab.research.google.com/notebooks/data_table.ipynb>data table notebook</a>'\n",
              "            + ' to learn more about interactive tables.';\n",
              "          element.innerHTML = '';\n",
              "          dataTable['output_type'] = 'display_data';\n",
              "          await google.colab.output.renderOutput(dataTable, element);\n",
              "          const docLink = document.createElement('div');\n",
              "          docLink.innerHTML = docLinkHtml;\n",
              "          element.appendChild(docLink);\n",
              "        }\n",
              "      </script>\n",
              "    </div>\n",
              "  </div>\n",
              "  "
            ]
          },
          "metadata": {},
          "execution_count": 6
        }
      ]
    },
    {
      "cell_type": "code",
      "source": [
        "# Let's focus on one variable, the sepal length.\n",
        "\n",
        "sepal_length = iris.sepal_length\n",
        "sns.histplot(sepal_length, kde = True)"
      ],
      "metadata": {
        "colab": {
          "base_uri": "https://localhost:8080/",
          "height": 297
        },
        "id": "YO5SpJvXyClr",
        "outputId": "311a3260-ba7a-4ae1-dbc5-9536791ccbef"
      },
      "execution_count": null,
      "outputs": [
        {
          "output_type": "execute_result",
          "data": {
            "text/plain": [
              "<matplotlib.axes._subplots.AxesSubplot at 0x7f56fcb9c5d0>"
            ]
          },
          "metadata": {},
          "execution_count": 19
        },
        {
          "output_type": "display_data",
          "data": {
            "text/plain": [
              "<Figure size 432x288 with 1 Axes>"
            ],
            "image/png": "[encoded data removed]"
          },
          "metadata": {
            "needs_background": "light"
          }
        }
      ]
    },
    {
      "cell_type": "markdown",
      "source": [
        "In this example we use a very simple U-statistic, the sample variance. \\\\\n",
        "$ U_n  = \\frac{2}{n(n-1)} \\sum_{1 \\leq i  < j \\leq n} (X_i - X_j)^2 = \\frac{1}{n-1}  \\sum_{i=1}^n \\left(X_i- \\bar X\\right)^2 $"
      ],
      "metadata": {
        "id": "jDhu4JJ-ymVM"
      }
    },
    {
      "cell_type": "code",
      "source": [
        "# Calculate U_n, the sample variance\n",
        "u_n = np.var(sepal_length, ddof = 1)\n",
        "u_n"
      ],
      "metadata": {
        "colab": {
          "base_uri": "https://localhost:8080/"
        },
        "id": "pC2nhrjMye1N",
        "outputId": "d2b78156-d4c6-408c-a9d9-1cc08cae32b2"
      },
      "execution_count": null,
      "outputs": [
        {
          "output_type": "execute_result",
          "data": {
            "text/plain": [
              "0.6856935123042507"
            ]
          },
          "metadata": {},
          "execution_count": 21
        }
      ]
    },
    {
      "cell_type": "markdown",
      "source": [
        "We want to approximate the three following performance measures of $U_n$: \\\\\n",
        "\n",
        "Error Distribution: \\\\\n",
        "￼$$\\lambda_{n,1}(F) = \\mathbb{\\sf P}_F \\left[ \\sqrt{n}(U_n - \\theta) \\leq c \\right]$$ \\\\\n",
        "$$\\lambda_{n,1}( F_n) = \\mathbb{\\sf P}_{ F_n} \\left[ \\sqrt{n}(U_n^* - U_n) \\leq c \\right]$$ \\\\\n",
        "$$\\lambda_{n,1}( F_n) = \\frac{1}{B} \\sum_{b = 1}^B \\mathbb{\\sf I}\\left(\\sqrt n (U_{n,b}^* - U_n \\right) \\leq c)$$ \\\\\n",
        "\\\n",
        "Bias: \\\\\n",
        "￼ $$\\lambda_{n,2}(F) = \\mathbb{\\sf E}_F \\left(U_n \\right) - \\theta$$ \\\\\n",
        "$$\\lambda_{n,2}( F_n) = \\mathbb{\\sf E}_{ F_n} \\left(U_n^* \\right) - U_n$$ \\\\\n",
        "$$\\lambda_{n,2}^B( F_n) = \\frac{1}{B} \\sum_{b=1} ^B U_{n,b}^* - U_n$$ \\\\\n",
        "\\\n",
        "Variance: \\\\\n",
        "$$\\lambda_{n,3}(F) = \\mathbb{\\sf{Var}}_F \\left( U_n \\right)$$ \\\\\n",
        "$$\\lambda_{n,3}( F_n) = \\mathbb{\\sf{Var}}_{ F_n} \\left( U_n^* \\right)$$ \\\\\n",
        "$$\\lambda_{n,3}^B( F_n) = \\frac{1}{B} \\sum_{b = 1}^B \\left( U_{n, b}^* - U_n \\right)^2$$\n",
        "￼"
      ],
      "metadata": {
        "id": "kyOEjWeV07vq"
      }
    },
    {
      "cell_type": "markdown",
      "source": [
        "First we draw $B = 1000$ Bootstrap Samples from variable sepal length."
      ],
      "metadata": {
        "id": "9G9EezOt17f2"
      }
    },
    {
      "cell_type": "code",
      "source": [
        "B = 1000\n",
        "n = len(sepal_length)\n",
        "bootstrap_samples = [np.random.choice(sepal_length, size = n) for i in np.arange(B)]"
      ],
      "metadata": {
        "id": "WPsfM8vK0cq0"
      },
      "execution_count": null,
      "outputs": []
    },
    {
      "cell_type": "markdown",
      "source": [
        "Now we calculate $U_n^*$ for every single bootstrap sample."
      ],
      "metadata": {
        "id": "7X5ffdsV3qbc"
      }
    },
    {
      "cell_type": "code",
      "source": [
        "u_n_star_list = [np.var(sample, ddof = 1) for sample in bootstrap_samples]"
      ],
      "metadata": {
        "id": "2uKKuvMd2rK4"
      },
      "execution_count": null,
      "outputs": []
    },
    {
      "cell_type": "markdown",
      "source": [
        "Let's plot the distribution of all $U_n^*$. The red line shows our original $U_n$."
      ],
      "metadata": {
        "id": "70I_D6uL4ArY"
      }
    },
    {
      "cell_type": "code",
      "source": [
        "sns.histplot(u_n_star_list, kde = True)\n",
        "plt.axvline(u_n, color = \"red\")"
      ],
      "metadata": {
        "colab": {
          "base_uri": "https://localhost:8080/",
          "height": 282
        },
        "id": "HnUeSHHe36Ff",
        "outputId": "c14b56d6-194c-42e2-8c9a-649264c880f2"
      },
      "execution_count": null,
      "outputs": [
        {
          "output_type": "execute_result",
          "data": {
            "text/plain": [
              "<matplotlib.lines.Line2D at 0x7f56f7da18d0>"
            ]
          },
          "metadata": {},
          "execution_count": 32
        },
        {
          "output_type": "display_data",
          "data": {
            "text/plain": [
              "<Figure size 432x288 with 1 Axes>"
            ],
            "image/png": "[encoded data removed]"
          },
          "metadata": {
            "needs_background": "light"
          }
        }
      ]
    },
    {
      "cell_type": "markdown",
      "source": [
        "Calculate $$\\lambda_{n,1}^B( F_n) = \\frac{1}{B} \\sum_{b = 1}^B \\mathbb{\\sf I}\\left(\\sqrt n (U_{n,b}^* - U_n \\right) \\leq c)$$ for $c=0.05$"
      ],
      "metadata": {
        "id": "3mzJEKLo5Jx0"
      }
    },
    {
      "cell_type": "code",
      "source": [
        "c = 0.05\n",
        "lambda_bootstrap_one = 1 / B * np.sum([(np.sqrt(n) * (x - u_n) <= c)for x in u_n_star_list])\n",
        "lambda_bootstrap_one"
      ],
      "metadata": {
        "colab": {
          "base_uri": "https://localhost:8080/"
        },
        "id": "3XJ84fvP2ubp",
        "outputId": "f9d7245d-f73f-4311-92b0-a750969c778e"
      },
      "execution_count": null,
      "outputs": [
        {
          "output_type": "execute_result",
          "data": {
            "text/plain": [
              "0.544"
            ]
          },
          "metadata": {},
          "execution_count": 47
        }
      ]
    },
    {
      "cell_type": "markdown",
      "source": [
        "Calculate $$\\lambda_{n,2}^B( F_n) = \\frac{1}{B} \\sum_{b=1} ^B U_{n,b}^* - U_n$$"
      ],
      "metadata": {
        "id": "3Po-VKye9jfV"
      }
    },
    {
      "cell_type": "code",
      "source": [
        "lambda_bootstrap_two = np.mean(u_n_star_list) - u_n\n",
        "lambda_bootstrap_two"
      ],
      "metadata": {
        "colab": {
          "base_uri": "https://localhost:8080/"
        },
        "id": "Erdcz__M8v87",
        "outputId": "1a2a0675-8842-47dc-a869-67d21a2e6321"
      },
      "execution_count": null,
      "outputs": [
        {
          "output_type": "execute_result",
          "data": {
            "text/plain": [
              "-0.0008049892617448817"
            ]
          },
          "metadata": {},
          "execution_count": 49
        }
      ]
    },
    {
      "cell_type": "markdown",
      "source": [
        "Pretty close to 0, which is good, since the U-statistic is supposed to be unbiased. The more we increase B, the closer it will get to 0."
      ],
      "metadata": {
        "id": "jLKrPGf_9z_m"
      }
    },
    {
      "cell_type": "markdown",
      "source": [
        "Calculate $$\\lambda_{n,3}^B( F_n) = \\frac{1}{B} \\sum_{b = 1}^B \\left( U_{n, b}^* - U_n \\right)^2$$"
      ],
      "metadata": {
        "id": "v7TfKHl-98Ve"
      }
    },
    {
      "cell_type": "code",
      "source": [
        "lambda_bootstrap_three = np.mean([(x - u_n)**2 for x in u_n_star_list])\n",
        "lambda_bootstrap_three"
      ],
      "metadata": {
        "colab": {
          "base_uri": "https://localhost:8080/"
        },
        "id": "Z_H8KCpp8-Jp",
        "outputId": "3a7a8bf3-bc13-47ec-fc65-8b15281e1f51"
      },
      "execution_count": null,
      "outputs": [
        {
          "output_type": "execute_result",
          "data": {
            "text/plain": [
              "0.004578396503699233"
            ]
          },
          "metadata": {},
          "execution_count": 51
        }
      ]
    }
  ]
}
